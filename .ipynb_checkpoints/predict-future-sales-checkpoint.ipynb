{
 "cells": [
  {
   "cell_type": "markdown",
   "metadata": {
    "pycharm": {
     "name": "#%% md\n"
    }
   },
   "source": [
    "## File descriptions\n",
    "* sales_train.csv - the training set. Daily historical data from January 2013 to October 2015.\n",
    "* test.csv - the test set. You need to forecast the sales for these shops and products for November 2015.\n",
    "* sample_submission.csv - a sample submission file in the correct format.\n",
    "* items.csv - supplemental information about the items/products.\n",
    "* item_categories.csv  - supplemental information about the items categories.\n",
    "* shops.csv- supplemental information about the shops.\n",
    "## Data fields\n",
    "* ID - an Id that represents a (Shop, Item) tuple within the test set\n",
    "* shop_id - unique identifier of a shop\n",
    "* item_id - unique identifier of a product\n",
    "* item_category_id - unique identifier of item category\n",
    "* item_cnt_day - number of products sold. You are predicting a monthly amount of this measure\n",
    "* item_price - current price of an item\n",
    "* date - date in format dd/mm/yyyy\n",
    "* date_block_num - a consecutive month number, used for convenience. January 2013 is 0, February 2013 is 1,..., October 2015 is 33\n",
    "* item_name - name of item\n",
    "* shop_name - name of shop\n",
    "* item_category_name - name of item category"
   ]
  },
  {
   "cell_type": "markdown",
   "metadata": {
    "pycharm": {
     "name": "#%% md\n"
    }
   },
   "source": [
    "# <center> Import libs"
   ]
  },
  {
   "cell_type": "code",
   "execution_count": null,
   "metadata": {
    "execution": {
     "iopub.execute_input": "2022-07-12T19:37:32.804010Z",
     "iopub.status.busy": "2022-07-12T19:37:32.803410Z",
     "iopub.status.idle": "2022-07-12T19:37:32.815756Z",
     "shell.execute_reply": "2022-07-12T19:37:32.814724Z",
     "shell.execute_reply.started": "2022-07-12T19:37:32.803978Z"
    },
    "jupyter": {
     "outputs_hidden": false
    },
    "pycharm": {
     "is_executing": true,
     "name": "#%%\n"
    }
   },
   "outputs": [],
   "source": [
    "import pandas as pd\n",
    "import numpy as np\n",
    "\n",
    "import matplotlib.pyplot as plt\n",
    "# Setting parameters for matplotlib\n",
    "%matplotlib inline\n",
    "plt.rcParams[\"figure.figsize\"] = (15, 7)\n",
    "plt.rcParams[\"font.size\"] = 14\n",
    "\n",
    "import seaborn as sns\n",
    "# Customizing seaborn color palette\n",
    "sns.light_palette(\"seagreen\", as_cmap=True)\n",
    "\n",
    "import warnings\n",
    "warnings.filterwarnings('ignore')\n",
    "\n",
    "from tensorflow.keras.models import Sequential\n",
    "from tensorflow.keras.layers import LSTM, Dense, Dropout\n",
    "import tensorflow as tf"
   ]
  },
  {
   "cell_type": "markdown",
   "metadata": {
    "pycharm": {
     "name": "#%% md\n"
    }
   },
   "source": [
    "# <center> Import data"
   ]
  },
  {
   "cell_type": "code",
   "execution_count": null,
   "metadata": {
    "execution": {
     "iopub.execute_input": "2022-07-12T19:37:33.000170Z",
     "iopub.status.busy": "2022-07-12T19:37:32.999720Z",
     "iopub.status.idle": "2022-07-12T19:37:34.760112Z",
     "shell.execute_reply": "2022-07-12T19:37:34.758898Z",
     "shell.execute_reply.started": "2022-07-12T19:37:33.000133Z"
    },
    "jupyter": {
     "outputs_hidden": false
    },
    "pycharm": {
     "is_executing": true,
     "name": "#%%\n"
    }
   },
   "outputs": [],
   "source": [
    "# Importing data\n",
    "item_categories = pd.read_csv('../input/competitive-data-science-predict-future-sales/item_categories.csv')\n",
    "items = pd.read_csv('../input/competitive-data-science-predict-future-sales/items.csv')\n",
    "sales_train = pd.read_csv('../input/competitive-data-science-predict-future-sales/sales_train.csv')\n",
    "shops = pd.read_csv('../input/competitive-data-science-predict-future-sales/shops.csv')\n",
    "sales_test = pd.read_csv('../input/competitive-data-science-predict-future-sales/test.csv')\n",
    "\n",
    "print(f'item_categories shape is {item_categories.shape}')\n",
    "print(f'items shape is {items.shape}')\n",
    "print(f'sales_train shape is {sales_train.shape}')\n",
    "print(f'shops shape is {shops.shape}')\n",
    "print(f'sales_test shape is {sales_test.shape}')"
   ]
  },
  {
   "cell_type": "markdown",
   "metadata": {
    "pycharm": {
     "name": "#%% md\n"
    }
   },
   "source": [
    "# <center> Datasets check"
   ]
  },
  {
   "cell_type": "markdown",
   "metadata": {
    "pycharm": {
     "name": "#%% md\n"
    }
   },
   "source": [
    "### Item category"
   ]
  },
  {
   "cell_type": "code",
   "execution_count": null,
   "metadata": {
    "execution": {
     "iopub.execute_input": "2022-07-12T19:37:34.762508Z",
     "iopub.status.busy": "2022-07-12T19:37:34.762183Z",
     "iopub.status.idle": "2022-07-12T19:37:34.773866Z",
     "shell.execute_reply": "2022-07-12T19:37:34.772341Z",
     "shell.execute_reply.started": "2022-07-12T19:37:34.762479Z"
    },
    "jupyter": {
     "outputs_hidden": false
    },
    "pycharm": {
     "is_executing": true,
     "name": "#%%\n"
    }
   },
   "outputs": [],
   "source": [
    "item_categories.head(10)"
   ]
  },
  {
   "cell_type": "code",
   "execution_count": null,
   "metadata": {
    "execution": {
     "iopub.execute_input": "2022-07-12T19:37:34.775497Z",
     "iopub.status.busy": "2022-07-12T19:37:34.774912Z",
     "iopub.status.idle": "2022-07-12T19:37:34.783949Z",
     "shell.execute_reply": "2022-07-12T19:37:34.782885Z",
     "shell.execute_reply.started": "2022-07-12T19:37:34.775461Z"
    },
    "jupyter": {
     "outputs_hidden": false
    },
    "pycharm": {
     "is_executing": true,
     "name": "#%%\n"
    }
   },
   "outputs": [],
   "source": [
    "item_categories.dtypes"
   ]
  },
  {
   "cell_type": "markdown",
   "metadata": {
    "pycharm": {
     "name": "#%% md\n"
    }
   },
   "source": [
    "### Items"
   ]
  },
  {
   "cell_type": "code",
   "execution_count": null,
   "metadata": {
    "execution": {
     "iopub.execute_input": "2022-07-12T19:37:34.788812Z",
     "iopub.status.busy": "2022-07-12T19:37:34.787639Z",
     "iopub.status.idle": "2022-07-12T19:37:34.801220Z",
     "shell.execute_reply": "2022-07-12T19:37:34.799885Z",
     "shell.execute_reply.started": "2022-07-12T19:37:34.788766Z"
    },
    "jupyter": {
     "outputs_hidden": false
    },
    "pycharm": {
     "is_executing": true,
     "name": "#%%\n"
    }
   },
   "outputs": [],
   "source": [
    "items.head(10)"
   ]
  },
  {
   "cell_type": "code",
   "execution_count": null,
   "metadata": {
    "execution": {
     "iopub.execute_input": "2022-07-12T19:37:34.803221Z",
     "iopub.status.busy": "2022-07-12T19:37:34.802307Z",
     "iopub.status.idle": "2022-07-12T19:37:34.812069Z",
     "shell.execute_reply": "2022-07-12T19:37:34.811115Z",
     "shell.execute_reply.started": "2022-07-12T19:37:34.803178Z"
    },
    "jupyter": {
     "outputs_hidden": false
    },
    "pycharm": {
     "is_executing": true,
     "name": "#%%\n"
    }
   },
   "outputs": [],
   "source": [
    "items.dtypes"
   ]
  },
  {
   "cell_type": "markdown",
   "metadata": {
    "pycharm": {
     "name": "#%% md\n"
    }
   },
   "source": [
    "# Shops"
   ]
  },
  {
   "cell_type": "code",
   "execution_count": null,
   "metadata": {
    "execution": {
     "iopub.execute_input": "2022-07-12T19:37:34.814481Z",
     "iopub.status.busy": "2022-07-12T19:37:34.813534Z",
     "iopub.status.idle": "2022-07-12T19:37:34.825038Z",
     "shell.execute_reply": "2022-07-12T19:37:34.824241Z",
     "shell.execute_reply.started": "2022-07-12T19:37:34.814447Z"
    },
    "jupyter": {
     "outputs_hidden": false
    },
    "pycharm": {
     "is_executing": true,
     "name": "#%%\n"
    }
   },
   "outputs": [],
   "source": [
    "shops.head(10)"
   ]
  },
  {
   "cell_type": "code",
   "execution_count": null,
   "metadata": {
    "execution": {
     "iopub.execute_input": "2022-07-12T19:37:34.828026Z",
     "iopub.status.busy": "2022-07-12T19:37:34.827457Z",
     "iopub.status.idle": "2022-07-12T19:37:34.838993Z",
     "shell.execute_reply": "2022-07-12T19:37:34.837810Z",
     "shell.execute_reply.started": "2022-07-12T19:37:34.827996Z"
    },
    "jupyter": {
     "outputs_hidden": false
    },
    "pycharm": {
     "is_executing": true,
     "name": "#%%\n"
    }
   },
   "outputs": [],
   "source": [
    "shops.dtypes"
   ]
  },
  {
   "cell_type": "markdown",
   "metadata": {
    "pycharm": {
     "name": "#%% md\n"
    }
   },
   "source": [
    "# Sales train"
   ]
  },
  {
   "cell_type": "code",
   "execution_count": null,
   "metadata": {
    "execution": {
     "iopub.execute_input": "2022-07-12T19:37:34.840865Z",
     "iopub.status.busy": "2022-07-12T19:37:34.840026Z",
     "iopub.status.idle": "2022-07-12T19:37:34.857094Z",
     "shell.execute_reply": "2022-07-12T19:37:34.855540Z",
     "shell.execute_reply.started": "2022-07-12T19:37:34.840822Z"
    },
    "jupyter": {
     "outputs_hidden": false
    },
    "pycharm": {
     "is_executing": true,
     "name": "#%%\n"
    }
   },
   "outputs": [],
   "source": [
    "sales_train.head()"
   ]
  },
  {
   "cell_type": "code",
   "execution_count": null,
   "metadata": {
    "execution": {
     "iopub.execute_input": "2022-07-12T19:37:34.859412Z",
     "iopub.status.busy": "2022-07-12T19:37:34.858672Z",
     "iopub.status.idle": "2022-07-12T19:37:34.866285Z",
     "shell.execute_reply": "2022-07-12T19:37:34.865560Z",
     "shell.execute_reply.started": "2022-07-12T19:37:34.859357Z"
    },
    "jupyter": {
     "outputs_hidden": false
    },
    "pycharm": {
     "is_executing": true,
     "name": "#%%\n"
    }
   },
   "outputs": [],
   "source": [
    "sales_train.dtypes"
   ]
  },
  {
   "cell_type": "markdown",
   "metadata": {
    "pycharm": {
     "name": "#%% md\n"
    }
   },
   "source": [
    "# Sales test"
   ]
  },
  {
   "cell_type": "code",
   "execution_count": null,
   "metadata": {
    "execution": {
     "iopub.execute_input": "2022-07-12T19:37:34.976963Z",
     "iopub.status.busy": "2022-07-12T19:37:34.976232Z",
     "iopub.status.idle": "2022-07-12T19:37:34.987463Z",
     "shell.execute_reply": "2022-07-12T19:37:34.986154Z",
     "shell.execute_reply.started": "2022-07-12T19:37:34.976911Z"
    },
    "jupyter": {
     "outputs_hidden": false
    },
    "pycharm": {
     "is_executing": true,
     "name": "#%%\n"
    }
   },
   "outputs": [],
   "source": [
    "sales_test.head()"
   ]
  },
  {
   "cell_type": "code",
   "execution_count": null,
   "metadata": {
    "execution": {
     "iopub.execute_input": "2022-07-12T19:37:35.183633Z",
     "iopub.status.busy": "2022-07-12T19:37:35.182869Z",
     "iopub.status.idle": "2022-07-12T19:37:35.192318Z",
     "shell.execute_reply": "2022-07-12T19:37:35.191048Z",
     "shell.execute_reply.started": "2022-07-12T19:37:35.183586Z"
    },
    "jupyter": {
     "outputs_hidden": false
    },
    "pycharm": {
     "is_executing": true,
     "name": "#%%\n"
    }
   },
   "outputs": [],
   "source": [
    "sales_test.dtypes"
   ]
  },
  {
   "cell_type": "markdown",
   "metadata": {
    "pycharm": {
     "name": "#%% md\n"
    }
   },
   "source": [
    "# <center> Dtype validation"
   ]
  },
  {
   "cell_type": "code",
   "execution_count": null,
   "metadata": {
    "execution": {
     "iopub.execute_input": "2022-07-12T19:37:35.537116Z",
     "iopub.status.busy": "2022-07-12T19:37:35.536698Z",
     "iopub.status.idle": "2022-07-12T19:37:36.575084Z",
     "shell.execute_reply": "2022-07-12T19:37:36.573776Z",
     "shell.execute_reply.started": "2022-07-12T19:37:35.537084Z"
    },
    "jupyter": {
     "outputs_hidden": false
    },
    "pycharm": {
     "is_executing": true,
     "name": "#%%\n"
    }
   },
   "outputs": [],
   "source": [
    "item_categories['item_category_id'] = item_categories['item_category_id'].astype(object)\n",
    "\n",
    "items['item_id'] = items['item_id'].astype(object)\n",
    "items['item_category_id'] = items['item_category_id'].astype(object)\n",
    "\n",
    "shops['shop_id'] = shops['shop_id'].astype(object)\n",
    "\n",
    "sales_train['date'] = pd.to_datetime(sales_train['date'])\n",
    "sales_train['date_block_num'] = sales_train['date_block_num'].astype(object)\n",
    "sales_train['shop_id'] = sales_train['shop_id'].astype(object)\n",
    "sales_train['item_id'] = sales_train['item_id'].astype(object)\n",
    "sales_train['item_cnt_day'] = sales_train['item_cnt_day'].astype('int64')\n",
    "\n",
    "sales_test['shop_id'] = sales_test['shop_id'].astype(object)\n",
    "sales_test['item_id'] = sales_test['item_id'].astype(object)"
   ]
  },
  {
   "cell_type": "markdown",
   "metadata": {
    "pycharm": {
     "name": "#%% md\n"
    }
   },
   "source": [
    "# <center> Creating new features"
   ]
  },
  {
   "cell_type": "code",
   "execution_count": null,
   "metadata": {
    "execution": {
     "iopub.execute_input": "2022-07-12T19:37:36.577289Z",
     "iopub.status.busy": "2022-07-12T19:37:36.576952Z",
     "iopub.status.idle": "2022-07-12T19:37:39.772064Z",
     "shell.execute_reply": "2022-07-12T19:37:39.770979Z",
     "shell.execute_reply.started": "2022-07-12T19:37:36.577259Z"
    },
    "jupyter": {
     "outputs_hidden": false
    },
    "pycharm": {
     "is_executing": true,
     "name": "#%%\n"
    }
   },
   "outputs": [],
   "source": [
    "#creating a new feature (concatination shop_id and item_id)\n",
    "sales_train['series'] = sales_train['shop_id'].astype('str') + '|' + sales_train['item_id'].astype('str')\n",
    "sales_test['series'] = sales_test['shop_id'].astype('str') + '|' + sales_test['item_id'].astype('str')\n",
    "\n",
    "sales_test.head()"
   ]
  },
  {
   "cell_type": "markdown",
   "metadata": {
    "pycharm": {
     "name": "#%% md\n"
    }
   },
   "source": [
    "# <center> Group data"
   ]
  },
  {
   "cell_type": "code",
   "execution_count": null,
   "metadata": {
    "execution": {
     "iopub.execute_input": "2022-07-12T19:37:39.774459Z",
     "iopub.status.busy": "2022-07-12T19:37:39.774027Z",
     "iopub.status.idle": "2022-07-12T19:37:42.689741Z",
     "shell.execute_reply": "2022-07-12T19:37:42.688684Z",
     "shell.execute_reply.started": "2022-07-12T19:37:39.774418Z"
    },
    "jupyter": {
     "outputs_hidden": false
    },
    "pycharm": {
     "is_executing": true,
     "name": "#%%\n"
    }
   },
   "outputs": [],
   "source": [
    "# Grouping data by series and month (date_blocck_num)\n",
    "sales_train = sales_train.groupby(\n",
    "    ['series', 'date_block_num']\n",
    ").agg({\n",
    "    'item_cnt_day': 'sum'\n",
    "})\n",
    "\n",
    "sales_train.reset_index(inplace = True)\n",
    "sales_train.head()"
   ]
  },
  {
   "cell_type": "markdown",
   "metadata": {
    "pycharm": {
     "name": "#%% md\n"
    }
   },
   "source": [
    "# <center> Pivot Table creation"
   ]
  },
  {
   "cell_type": "code",
   "execution_count": null,
   "metadata": {
    "execution": {
     "iopub.execute_input": "2022-07-12T19:37:42.692654Z",
     "iopub.status.busy": "2022-07-12T19:37:42.692306Z",
     "iopub.status.idle": "2022-07-12T19:37:46.637039Z",
     "shell.execute_reply": "2022-07-12T19:37:46.635672Z",
     "shell.execute_reply.started": "2022-07-12T19:37:42.692622Z"
    },
    "jupyter": {
     "outputs_hidden": false
    },
    "pycharm": {
     "is_executing": true,
     "name": "#%%\n"
    }
   },
   "outputs": [],
   "source": [
    "# Creating a pivot table from our data. Shape of pivot table == number of unique series * months  \n",
    "train_data_pivot = sales_train.pivot_table(\n",
    "    values = ['item_cnt_day'],\n",
    "    index = ['series'],\n",
    "    columns = ['date_block_num'],\n",
    "    fill_value = 0,\n",
    "    aggfunc='sum'\n",
    ")\n",
    "train_data_pivot.head()"
   ]
  },
  {
   "cell_type": "markdown",
   "metadata": {
    "pycharm": {
     "name": "#%% md\n"
    }
   },
   "source": [
    "# <center> Merging with test data"
   ]
  },
  {
   "cell_type": "code",
   "execution_count": null,
   "metadata": {
    "execution": {
     "iopub.execute_input": "2022-07-12T19:37:46.639105Z",
     "iopub.status.busy": "2022-07-12T19:37:46.638779Z",
     "iopub.status.idle": "2022-07-12T19:37:47.323553Z",
     "shell.execute_reply": "2022-07-12T19:37:47.322292Z",
     "shell.execute_reply.started": "2022-07-12T19:37:46.639076Z"
    },
    "jupyter": {
     "outputs_hidden": false
    },
    "pycharm": {
     "is_executing": true,
     "name": "#%%\n"
    }
   },
   "outputs": [],
   "source": [
    "# Creating a merged data (right join test data to train data). This one will be our test data for model\n",
    "merged_data = train_data_pivot.merge(\n",
    "    sales_test,\n",
    "    on = 'series',\n",
    "    how = 'right'\n",
    ").drop(\n",
    "    columns=['ID', 'shop_id', 'item_id']\n",
    ").fillna(0).set_index('series')\n",
    "\n",
    "merged_data.head()"
   ]
  },
  {
   "cell_type": "markdown",
   "metadata": {
    "pycharm": {
     "name": "#%% md\n"
    }
   },
   "source": [
    "# <center> Dividing train data into X_train, y_train"
   ]
  },
  {
   "cell_type": "code",
   "execution_count": null,
   "metadata": {
    "execution": {
     "iopub.execute_input": "2022-07-12T19:37:47.325738Z",
     "iopub.status.busy": "2022-07-12T19:37:47.325040Z",
     "iopub.status.idle": "2022-07-12T19:37:47.331792Z",
     "shell.execute_reply": "2022-07-12T19:37:47.330997Z",
     "shell.execute_reply.started": "2022-07-12T19:37:47.325692Z"
    },
    "jupyter": {
     "outputs_hidden": false
    },
    "pycharm": {
     "is_executing": true,
     "name": "#%%\n"
    }
   },
   "outputs": [],
   "source": [
    "# Taking the last month as y_train, deleting the first month to have the same shape as test data\n",
    "X_train = np.expand_dims(train_data_pivot.iloc[:, :-1], 2)\n",
    "y_train = train_data_pivot.iloc[:, -1]"
   ]
  },
  {
   "cell_type": "markdown",
   "metadata": {
    "pycharm": {
     "name": "#%% md\n"
    }
   },
   "source": [
    "# <center> Modeling"
   ]
  },
  {
   "cell_type": "code",
   "execution_count": null,
   "metadata": {
    "execution": {
     "iopub.execute_input": "2022-07-12T19:37:47.332958Z",
     "iopub.status.busy": "2022-07-12T19:37:47.332664Z",
     "iopub.status.idle": "2022-07-12T19:37:47.575667Z",
     "shell.execute_reply": "2022-07-12T19:37:47.574795Z",
     "shell.execute_reply.started": "2022-07-12T19:37:47.332931Z"
    },
    "jupyter": {
     "outputs_hidden": false
    },
    "pycharm": {
     "is_executing": true,
     "name": "#%%\n"
    }
   },
   "outputs": [],
   "source": [
    "# Creating a model\n",
    "model = Sequential([\n",
    "   LSTM(\n",
    "        units = 64, \n",
    "        input_shape = (33, 1), \n",
    "        return_sequences = False\n",
    "    ),\n",
    "    Dense(\n",
    "        units = 1,\n",
    "        activation = 'relu'\n",
    "    )\n",
    "])\n",
    "\n",
    "# Model compiling\n",
    "model.compile(\n",
    "    optimizer = 'adam',\n",
    "    loss = 'mae',\n",
    "    metrics = [\n",
    "        tf.keras.metrics.RootMeanSquaredError() # Using the same metrics as Kaggle validator\n",
    "    ]\n",
    ")"
   ]
  },
  {
   "cell_type": "code",
   "execution_count": null,
   "metadata": {
    "execution": {
     "iopub.execute_input": "2022-07-12T19:37:47.577894Z",
     "iopub.status.busy": "2022-07-12T19:37:47.576979Z",
     "iopub.status.idle": "2022-07-12T19:42:28.252670Z",
     "shell.execute_reply": "2022-07-12T19:42:28.251661Z",
     "shell.execute_reply.started": "2022-07-12T19:37:47.577855Z"
    },
    "jupyter": {
     "outputs_hidden": false
    },
    "pycharm": {
     "is_executing": true,
     "name": "#%%\n"
    }
   },
   "outputs": [],
   "source": [
    "# Model training\n",
    "history = model.fit(\n",
    "    x = X_train,\n",
    "    y = y_train,\n",
    "    epochs = 10,\n",
    "    batch_size=4056,\n",
    "    validation_split=0.4\n",
    ")"
   ]
  },
  {
   "cell_type": "code",
   "execution_count": null,
   "metadata": {
    "execution": {
     "iopub.execute_input": "2022-07-12T19:42:28.254619Z",
     "iopub.status.busy": "2022-07-12T19:42:28.254313Z",
     "iopub.status.idle": "2022-07-12T19:42:28.567092Z",
     "shell.execute_reply": "2022-07-12T19:42:28.566344Z",
     "shell.execute_reply.started": "2022-07-12T19:42:28.254584Z"
    },
    "jupyter": {
     "outputs_hidden": false
    },
    "pycharm": {
     "is_executing": true,
     "name": "#%%\n"
    }
   },
   "outputs": [],
   "source": [
    "# Visualize model train loss\n",
    "\n",
    "fig, ax = plt.subplots(\n",
    "    nrows = 1,\n",
    "    ncols = 2\n",
    ")\n",
    "ax[0].plot(history.history['val_root_mean_squared_error'], color = 'orange')\n",
    "ax[0].set_title('RMSE')\n",
    "ax[0].set_xlabel('Epochs')\n",
    "ax[0].set_ylabel('Error')\n",
    "ax[0].grid(alpha = 0.5)\n",
    "\n",
    "ax[1].plot(history.history['loss'], color = 'green')\n",
    "ax[1].set_title('Loss')\n",
    "ax[1].set_xlabel('Epochs')\n",
    "ax[1].set_ylabel('Loss')\n",
    "ax[1].grid(alpha = 0.5)"
   ]
  },
  {
   "cell_type": "markdown",
   "metadata": {
    "pycharm": {
     "name": "#%% md\n"
    }
   },
   "source": [
    "# <center> Test data processing"
   ]
  },
  {
   "cell_type": "code",
   "execution_count": null,
   "metadata": {
    "execution": {
     "iopub.execute_input": "2022-07-12T19:42:28.570353Z",
     "iopub.status.busy": "2022-07-12T19:42:28.569761Z",
     "iopub.status.idle": "2022-07-12T19:43:15.421259Z",
     "shell.execute_reply": "2022-07-12T19:43:15.420073Z",
     "shell.execute_reply.started": "2022-07-12T19:42:28.570322Z"
    },
    "jupyter": {
     "outputs_hidden": false
    },
    "pycharm": {
     "is_executing": true,
     "name": "#%%\n"
    }
   },
   "outputs": [],
   "source": [
    "# Creating test data from merged data (merged sales_test with pivot table)\n",
    "test_data = np.expand_dims(merged_data.iloc[:, 1:], 2)\n",
    "\n",
    "# Generating predictions\n",
    "predictions = model.predict(test_data)"
   ]
  },
  {
   "cell_type": "code",
   "execution_count": null,
   "metadata": {
    "execution": {
     "iopub.execute_input": "2022-07-12T19:43:15.424853Z",
     "iopub.status.busy": "2022-07-12T19:43:15.424014Z",
     "iopub.status.idle": "2022-07-12T19:43:16.452627Z",
     "shell.execute_reply": "2022-07-12T19:43:16.451334Z",
     "shell.execute_reply.started": "2022-07-12T19:43:15.424784Z"
    },
    "jupyter": {
     "outputs_hidden": false
    },
    "pycharm": {
     "is_executing": true,
     "name": "#%%\n"
    }
   },
   "outputs": [],
   "source": [
    "# Creating pandas datframe from the sales_test ID's and predictions and saving that\n",
    "submission = pd.DataFrame({\n",
    "    'ID':sales_test['ID'],\n",
    "    'item_cnt_month':predictions.ravel()\n",
    "})\n",
    "submission.to_csv('./submission.csv',index = False)"
   ]
  }
 ],
 "metadata": {
  "kernelspec": {
   "display_name": "Python 3 (ipykernel)",
   "language": "python",
   "name": "python3"
  },
  "language_info": {
   "codemirror_mode": {
    "name": "ipython",
    "version": 3
   },
   "file_extension": ".py",
   "mimetype": "text/x-python",
   "name": "python",
   "nbconvert_exporter": "python",
   "pygments_lexer": "ipython3",
   "version": "3.9.12"
  }
 },
 "nbformat": 4,
 "nbformat_minor": 4
}
