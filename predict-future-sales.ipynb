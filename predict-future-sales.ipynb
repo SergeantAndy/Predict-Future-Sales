{
 "cells": [
  {
   "cell_type": "markdown",
   "metadata": {
    "pycharm": {
     "name": "#%% md\n"
    }
   },
   "source": [
    "## File descriptions\n",
    "* sales_train.csv - the training set. Daily historical data from January 2013 to October 2015.\n",
    "* test.csv - the test set. You need to forecast the sales for these shops and products for November 2015.\n",
    "* sample_submission.csv - a sample submission file in the correct format.\n",
    "* items.csv - supplemental information about the items/products.\n",
    "* item_categories.csv  - supplemental information about the items categories.\n",
    "* shops.csv- supplemental information about the shops.\n",
    "## Data fields\n",
    "* ID - an Id that represents a (Shop, Item) tuple within the test set\n",
    "* shop_id - unique identifier of a shop\n",
    "* item_id - unique identifier of a product\n",
    "* item_category_id - unique identifier of item category\n",
    "* item_cnt_day - number of products sold. You are predicting a monthly amount of this measure\n",
    "* item_price - current price of an item\n",
    "* date - date in format dd/mm/yyyy\n",
    "* date_block_num - a consecutive month number, used for convenience. January 2013 is 0, February 2013 is 1,..., October 2015 is 33\n",
    "* item_name - name of item\n",
    "* shop_name - name of shop\n",
    "* item_category_name - name of item category"
   ]
  },
  {
   "cell_type": "markdown",
   "metadata": {
    "pycharm": {
     "name": "#%% md\n"
    }
   },
   "source": [
    "# <center> Import libs"
   ]
  },
  {
   "cell_type": "code",
   "execution_count": 26,
   "metadata": {
    "execution": {
     "iopub.execute_input": "2022-07-12T19:37:32.804010Z",
     "iopub.status.busy": "2022-07-12T19:37:32.803410Z",
     "iopub.status.idle": "2022-07-12T19:37:32.815756Z",
     "shell.execute_reply": "2022-07-12T19:37:32.814724Z",
     "shell.execute_reply.started": "2022-07-12T19:37:32.803978Z"
    },
    "jupyter": {
     "outputs_hidden": false
    },
    "pycharm": {
     "name": "#%%\n"
    }
   },
   "outputs": [],
   "source": [
    "import pandas as pd\n",
    "import numpy as np\n",
    "\n",
    "import matplotlib.pyplot as plt\n",
    "# Setting parameters for matplotlib\n",
    "%matplotlib inline\n",
    "plt.rcParams[\"figure.figsize\"] = (15, 7)\n",
    "plt.rcParams[\"font.size\"] = 14\n",
    "\n",
    "import seaborn as sns\n",
    "# Customizing seaborn color palette\n",
    "sns.light_palette(\"seagreen\", as_cmap=True)\n",
    "\n",
    "import warnings\n",
    "warnings.filterwarnings('ignore')\n",
    "\n",
    "from tensorflow.keras.models import Sequential\n",
    "from tensorflow.keras.layers import LSTM, Dense, Dropout\n",
    "import tensorflow as tf"
   ]
  },
  {
   "cell_type": "markdown",
   "metadata": {
    "pycharm": {
     "name": "#%% md\n"
    }
   },
   "source": [
    "# <center> Import data"
   ]
  },
  {
   "cell_type": "code",
   "execution_count": 27,
   "metadata": {
    "execution": {
     "iopub.execute_input": "2022-07-12T19:37:33.000170Z",
     "iopub.status.busy": "2022-07-12T19:37:32.999720Z",
     "iopub.status.idle": "2022-07-12T19:37:34.760112Z",
     "shell.execute_reply": "2022-07-12T19:37:34.758898Z",
     "shell.execute_reply.started": "2022-07-12T19:37:33.000133Z"
    },
    "jupyter": {
     "outputs_hidden": false
    },
    "pycharm": {
     "name": "#%%\n"
    }
   },
   "outputs": [
    {
     "name": "stdout",
     "output_type": "stream",
     "text": [
      "item_categories shape is (84, 2)\n",
      "items shape is (22170, 3)\n",
      "sales_train shape is (2935849, 6)\n",
      "shops shape is (60, 2)\n",
      "sales_test shape is (214200, 3)\n"
     ]
    }
   ],
   "source": [
    "# Importing data\n",
    "item_categories = pd.read_csv('data/item_categories.csv')\n",
    "items = pd.read_csv('data/items.csv')\n",
    "sales_train = pd.read_csv('data/sales_train.csv')\n",
    "shops = pd.read_csv('data/shops.csv')\n",
    "sales_test = pd.read_csv('data/test.csv')\n",
    "\n",
    "print(f'item_categories shape is {item_categories.shape}')\n",
    "print(f'items shape is {items.shape}')\n",
    "print(f'sales_train shape is {sales_train.shape}')\n",
    "print(f'shops shape is {shops.shape}')\n",
    "print(f'sales_test shape is {sales_test.shape}')"
   ]
  },
  {
   "cell_type": "markdown",
   "metadata": {
    "pycharm": {
     "name": "#%% md\n"
    }
   },
   "source": [
    "# <center> Datasets check"
   ]
  },
  {
   "cell_type": "markdown",
   "metadata": {
    "pycharm": {
     "name": "#%% md\n"
    }
   },
   "source": [
    "### Item category"
   ]
  },
  {
   "cell_type": "code",
   "execution_count": 28,
   "metadata": {
    "execution": {
     "iopub.execute_input": "2022-07-12T19:37:34.762508Z",
     "iopub.status.busy": "2022-07-12T19:37:34.762183Z",
     "iopub.status.idle": "2022-07-12T19:37:34.773866Z",
     "shell.execute_reply": "2022-07-12T19:37:34.772341Z",
     "shell.execute_reply.started": "2022-07-12T19:37:34.762479Z"
    },
    "jupyter": {
     "outputs_hidden": false
    },
    "pycharm": {
     "name": "#%%\n"
    }
   },
   "outputs": [
    {
     "data": {
      "text/plain": "        item_category_name  item_category_id\n0  PC - Гарнитуры/Наушники                 0\n1         Аксессуары - PS2                 1\n2         Аксессуары - PS3                 2\n3         Аксессуары - PS4                 3\n4         Аксессуары - PSP                 4\n5      Аксессуары - PSVita                 5\n6    Аксессуары - XBOX 360                 6\n7    Аксессуары - XBOX ONE                 7\n8           Билеты (Цифра)                 8\n9          Доставка товара                 9",
      "text/html": "<div>\n<style scoped>\n    .dataframe tbody tr th:only-of-type {\n        vertical-align: middle;\n    }\n\n    .dataframe tbody tr th {\n        vertical-align: top;\n    }\n\n    .dataframe thead th {\n        text-align: right;\n    }\n</style>\n<table border=\"1\" class=\"dataframe\">\n  <thead>\n    <tr style=\"text-align: right;\">\n      <th></th>\n      <th>item_category_name</th>\n      <th>item_category_id</th>\n    </tr>\n  </thead>\n  <tbody>\n    <tr>\n      <th>0</th>\n      <td>PC - Гарнитуры/Наушники</td>\n      <td>0</td>\n    </tr>\n    <tr>\n      <th>1</th>\n      <td>Аксессуары - PS2</td>\n      <td>1</td>\n    </tr>\n    <tr>\n      <th>2</th>\n      <td>Аксессуары - PS3</td>\n      <td>2</td>\n    </tr>\n    <tr>\n      <th>3</th>\n      <td>Аксессуары - PS4</td>\n      <td>3</td>\n    </tr>\n    <tr>\n      <th>4</th>\n      <td>Аксессуары - PSP</td>\n      <td>4</td>\n    </tr>\n    <tr>\n      <th>5</th>\n      <td>Аксессуары - PSVita</td>\n      <td>5</td>\n    </tr>\n    <tr>\n      <th>6</th>\n      <td>Аксессуары - XBOX 360</td>\n      <td>6</td>\n    </tr>\n    <tr>\n      <th>7</th>\n      <td>Аксессуары - XBOX ONE</td>\n      <td>7</td>\n    </tr>\n    <tr>\n      <th>8</th>\n      <td>Билеты (Цифра)</td>\n      <td>8</td>\n    </tr>\n    <tr>\n      <th>9</th>\n      <td>Доставка товара</td>\n      <td>9</td>\n    </tr>\n  </tbody>\n</table>\n</div>"
     },
     "execution_count": 28,
     "metadata": {},
     "output_type": "execute_result"
    }
   ],
   "source": [
    "item_categories.head(10)"
   ]
  },
  {
   "cell_type": "code",
   "execution_count": 29,
   "metadata": {
    "execution": {
     "iopub.execute_input": "2022-07-12T19:37:34.775497Z",
     "iopub.status.busy": "2022-07-12T19:37:34.774912Z",
     "iopub.status.idle": "2022-07-12T19:37:34.783949Z",
     "shell.execute_reply": "2022-07-12T19:37:34.782885Z",
     "shell.execute_reply.started": "2022-07-12T19:37:34.775461Z"
    },
    "jupyter": {
     "outputs_hidden": false
    },
    "pycharm": {
     "name": "#%%\n"
    }
   },
   "outputs": [
    {
     "data": {
      "text/plain": "item_category_name    object\nitem_category_id       int64\ndtype: object"
     },
     "execution_count": 29,
     "metadata": {},
     "output_type": "execute_result"
    }
   ],
   "source": [
    "item_categories.dtypes"
   ]
  },
  {
   "cell_type": "markdown",
   "metadata": {
    "pycharm": {
     "name": "#%% md\n"
    }
   },
   "source": [
    "### Items"
   ]
  },
  {
   "cell_type": "code",
   "execution_count": 30,
   "metadata": {
    "execution": {
     "iopub.execute_input": "2022-07-12T19:37:34.788812Z",
     "iopub.status.busy": "2022-07-12T19:37:34.787639Z",
     "iopub.status.idle": "2022-07-12T19:37:34.801220Z",
     "shell.execute_reply": "2022-07-12T19:37:34.799885Z",
     "shell.execute_reply.started": "2022-07-12T19:37:34.788766Z"
    },
    "jupyter": {
     "outputs_hidden": false
    },
    "pycharm": {
     "name": "#%%\n"
    }
   },
   "outputs": [
    {
     "data": {
      "text/plain": "                                           item_name  item_id  \\\n0          ! ВО ВЛАСТИ НАВАЖДЕНИЯ (ПЛАСТ.)         D        0   \n1  !ABBYY FineReader 12 Professional Edition Full...        1   \n2      ***В ЛУЧАХ СЛАВЫ   (UNV)                    D        2   \n3    ***ГОЛУБАЯ ВОЛНА  (Univ)                      D        3   \n4        ***КОРОБКА (СТЕКЛО)                       D        4   \n5  ***НОВЫЕ АМЕРИКАНСКИЕ ГРАФФИТИ  (UNI)         ...        5   \n6           ***УДАР ПО ВОРОТАМ (UNI)               D        6   \n7         ***УДАР ПО ВОРОТАМ-2 (UNI)               D        7   \n8           ***ЧАЙ С МУССОЛИНИ                     D        8   \n9      ***ШУГАРЛЭНДСКИЙ ЭКСПРЕСС (UNI)             D        9   \n\n   item_category_id  \n0                40  \n1                76  \n2                40  \n3                40  \n4                40  \n5                40  \n6                40  \n7                40  \n8                40  \n9                40  ",
      "text/html": "<div>\n<style scoped>\n    .dataframe tbody tr th:only-of-type {\n        vertical-align: middle;\n    }\n\n    .dataframe tbody tr th {\n        vertical-align: top;\n    }\n\n    .dataframe thead th {\n        text-align: right;\n    }\n</style>\n<table border=\"1\" class=\"dataframe\">\n  <thead>\n    <tr style=\"text-align: right;\">\n      <th></th>\n      <th>item_name</th>\n      <th>item_id</th>\n      <th>item_category_id</th>\n    </tr>\n  </thead>\n  <tbody>\n    <tr>\n      <th>0</th>\n      <td>! ВО ВЛАСТИ НАВАЖДЕНИЯ (ПЛАСТ.)         D</td>\n      <td>0</td>\n      <td>40</td>\n    </tr>\n    <tr>\n      <th>1</th>\n      <td>!ABBYY FineReader 12 Professional Edition Full...</td>\n      <td>1</td>\n      <td>76</td>\n    </tr>\n    <tr>\n      <th>2</th>\n      <td>***В ЛУЧАХ СЛАВЫ   (UNV)                    D</td>\n      <td>2</td>\n      <td>40</td>\n    </tr>\n    <tr>\n      <th>3</th>\n      <td>***ГОЛУБАЯ ВОЛНА  (Univ)                      D</td>\n      <td>3</td>\n      <td>40</td>\n    </tr>\n    <tr>\n      <th>4</th>\n      <td>***КОРОБКА (СТЕКЛО)                       D</td>\n      <td>4</td>\n      <td>40</td>\n    </tr>\n    <tr>\n      <th>5</th>\n      <td>***НОВЫЕ АМЕРИКАНСКИЕ ГРАФФИТИ  (UNI)         ...</td>\n      <td>5</td>\n      <td>40</td>\n    </tr>\n    <tr>\n      <th>6</th>\n      <td>***УДАР ПО ВОРОТАМ (UNI)               D</td>\n      <td>6</td>\n      <td>40</td>\n    </tr>\n    <tr>\n      <th>7</th>\n      <td>***УДАР ПО ВОРОТАМ-2 (UNI)               D</td>\n      <td>7</td>\n      <td>40</td>\n    </tr>\n    <tr>\n      <th>8</th>\n      <td>***ЧАЙ С МУССОЛИНИ                     D</td>\n      <td>8</td>\n      <td>40</td>\n    </tr>\n    <tr>\n      <th>9</th>\n      <td>***ШУГАРЛЭНДСКИЙ ЭКСПРЕСС (UNI)             D</td>\n      <td>9</td>\n      <td>40</td>\n    </tr>\n  </tbody>\n</table>\n</div>"
     },
     "execution_count": 30,
     "metadata": {},
     "output_type": "execute_result"
    }
   ],
   "source": [
    "items.head(10)"
   ]
  },
  {
   "cell_type": "code",
   "execution_count": 31,
   "metadata": {
    "execution": {
     "iopub.execute_input": "2022-07-12T19:37:34.803221Z",
     "iopub.status.busy": "2022-07-12T19:37:34.802307Z",
     "iopub.status.idle": "2022-07-12T19:37:34.812069Z",
     "shell.execute_reply": "2022-07-12T19:37:34.811115Z",
     "shell.execute_reply.started": "2022-07-12T19:37:34.803178Z"
    },
    "jupyter": {
     "outputs_hidden": false
    },
    "pycharm": {
     "name": "#%%\n"
    }
   },
   "outputs": [
    {
     "data": {
      "text/plain": "item_name           object\nitem_id              int64\nitem_category_id     int64\ndtype: object"
     },
     "execution_count": 31,
     "metadata": {},
     "output_type": "execute_result"
    }
   ],
   "source": [
    "items.dtypes"
   ]
  },
  {
   "cell_type": "markdown",
   "metadata": {
    "pycharm": {
     "name": "#%% md\n"
    }
   },
   "source": [
    "# Shops"
   ]
  },
  {
   "cell_type": "code",
   "execution_count": 32,
   "metadata": {
    "execution": {
     "iopub.execute_input": "2022-07-12T19:37:34.814481Z",
     "iopub.status.busy": "2022-07-12T19:37:34.813534Z",
     "iopub.status.idle": "2022-07-12T19:37:34.825038Z",
     "shell.execute_reply": "2022-07-12T19:37:34.824241Z",
     "shell.execute_reply.started": "2022-07-12T19:37:34.814447Z"
    },
    "jupyter": {
     "outputs_hidden": false
    },
    "pycharm": {
     "name": "#%%\n"
    }
   },
   "outputs": [
    {
     "data": {
      "text/plain": "                        shop_name  shop_id\n0   !Якутск Орджоникидзе, 56 фран        0\n1   !Якутск ТЦ \"Центральный\" фран        1\n2                Адыгея ТЦ \"Мега\"        2\n3  Балашиха ТРК \"Октябрь-Киномир\"        3\n4        Волжский ТЦ \"Волга Молл\"        4\n5          Вологда ТРЦ \"Мармелад\"        5\n6      Воронеж (Плехановская, 13)        6\n7          Воронеж ТРЦ \"Максимир\"        7\n8    Воронеж ТРЦ Сити-Парк \"Град\"        8\n9               Выездная Торговля        9",
      "text/html": "<div>\n<style scoped>\n    .dataframe tbody tr th:only-of-type {\n        vertical-align: middle;\n    }\n\n    .dataframe tbody tr th {\n        vertical-align: top;\n    }\n\n    .dataframe thead th {\n        text-align: right;\n    }\n</style>\n<table border=\"1\" class=\"dataframe\">\n  <thead>\n    <tr style=\"text-align: right;\">\n      <th></th>\n      <th>shop_name</th>\n      <th>shop_id</th>\n    </tr>\n  </thead>\n  <tbody>\n    <tr>\n      <th>0</th>\n      <td>!Якутск Орджоникидзе, 56 фран</td>\n      <td>0</td>\n    </tr>\n    <tr>\n      <th>1</th>\n      <td>!Якутск ТЦ \"Центральный\" фран</td>\n      <td>1</td>\n    </tr>\n    <tr>\n      <th>2</th>\n      <td>Адыгея ТЦ \"Мега\"</td>\n      <td>2</td>\n    </tr>\n    <tr>\n      <th>3</th>\n      <td>Балашиха ТРК \"Октябрь-Киномир\"</td>\n      <td>3</td>\n    </tr>\n    <tr>\n      <th>4</th>\n      <td>Волжский ТЦ \"Волга Молл\"</td>\n      <td>4</td>\n    </tr>\n    <tr>\n      <th>5</th>\n      <td>Вологда ТРЦ \"Мармелад\"</td>\n      <td>5</td>\n    </tr>\n    <tr>\n      <th>6</th>\n      <td>Воронеж (Плехановская, 13)</td>\n      <td>6</td>\n    </tr>\n    <tr>\n      <th>7</th>\n      <td>Воронеж ТРЦ \"Максимир\"</td>\n      <td>7</td>\n    </tr>\n    <tr>\n      <th>8</th>\n      <td>Воронеж ТРЦ Сити-Парк \"Град\"</td>\n      <td>8</td>\n    </tr>\n    <tr>\n      <th>9</th>\n      <td>Выездная Торговля</td>\n      <td>9</td>\n    </tr>\n  </tbody>\n</table>\n</div>"
     },
     "execution_count": 32,
     "metadata": {},
     "output_type": "execute_result"
    }
   ],
   "source": [
    "shops.head(10)"
   ]
  },
  {
   "cell_type": "code",
   "execution_count": 33,
   "metadata": {
    "execution": {
     "iopub.execute_input": "2022-07-12T19:37:34.828026Z",
     "iopub.status.busy": "2022-07-12T19:37:34.827457Z",
     "iopub.status.idle": "2022-07-12T19:37:34.838993Z",
     "shell.execute_reply": "2022-07-12T19:37:34.837810Z",
     "shell.execute_reply.started": "2022-07-12T19:37:34.827996Z"
    },
    "jupyter": {
     "outputs_hidden": false
    },
    "pycharm": {
     "name": "#%%\n"
    }
   },
   "outputs": [
    {
     "data": {
      "text/plain": "shop_name    object\nshop_id       int64\ndtype: object"
     },
     "execution_count": 33,
     "metadata": {},
     "output_type": "execute_result"
    }
   ],
   "source": [
    "shops.dtypes"
   ]
  },
  {
   "cell_type": "markdown",
   "metadata": {
    "pycharm": {
     "name": "#%% md\n"
    }
   },
   "source": [
    "# Sales train"
   ]
  },
  {
   "cell_type": "code",
   "execution_count": 34,
   "metadata": {
    "execution": {
     "iopub.execute_input": "2022-07-12T19:37:34.840865Z",
     "iopub.status.busy": "2022-07-12T19:37:34.840026Z",
     "iopub.status.idle": "2022-07-12T19:37:34.857094Z",
     "shell.execute_reply": "2022-07-12T19:37:34.855540Z",
     "shell.execute_reply.started": "2022-07-12T19:37:34.840822Z"
    },
    "jupyter": {
     "outputs_hidden": false
    },
    "pycharm": {
     "name": "#%%\n"
    }
   },
   "outputs": [
    {
     "data": {
      "text/plain": "         date  date_block_num  shop_id  item_id  item_price  item_cnt_day\n0  02.01.2013               0       59    22154      999.00           1.0\n1  03.01.2013               0       25     2552      899.00           1.0\n2  05.01.2013               0       25     2552      899.00          -1.0\n3  06.01.2013               0       25     2554     1709.05           1.0\n4  15.01.2013               0       25     2555     1099.00           1.0",
      "text/html": "<div>\n<style scoped>\n    .dataframe tbody tr th:only-of-type {\n        vertical-align: middle;\n    }\n\n    .dataframe tbody tr th {\n        vertical-align: top;\n    }\n\n    .dataframe thead th {\n        text-align: right;\n    }\n</style>\n<table border=\"1\" class=\"dataframe\">\n  <thead>\n    <tr style=\"text-align: right;\">\n      <th></th>\n      <th>date</th>\n      <th>date_block_num</th>\n      <th>shop_id</th>\n      <th>item_id</th>\n      <th>item_price</th>\n      <th>item_cnt_day</th>\n    </tr>\n  </thead>\n  <tbody>\n    <tr>\n      <th>0</th>\n      <td>02.01.2013</td>\n      <td>0</td>\n      <td>59</td>\n      <td>22154</td>\n      <td>999.00</td>\n      <td>1.0</td>\n    </tr>\n    <tr>\n      <th>1</th>\n      <td>03.01.2013</td>\n      <td>0</td>\n      <td>25</td>\n      <td>2552</td>\n      <td>899.00</td>\n      <td>1.0</td>\n    </tr>\n    <tr>\n      <th>2</th>\n      <td>05.01.2013</td>\n      <td>0</td>\n      <td>25</td>\n      <td>2552</td>\n      <td>899.00</td>\n      <td>-1.0</td>\n    </tr>\n    <tr>\n      <th>3</th>\n      <td>06.01.2013</td>\n      <td>0</td>\n      <td>25</td>\n      <td>2554</td>\n      <td>1709.05</td>\n      <td>1.0</td>\n    </tr>\n    <tr>\n      <th>4</th>\n      <td>15.01.2013</td>\n      <td>0</td>\n      <td>25</td>\n      <td>2555</td>\n      <td>1099.00</td>\n      <td>1.0</td>\n    </tr>\n  </tbody>\n</table>\n</div>"
     },
     "execution_count": 34,
     "metadata": {},
     "output_type": "execute_result"
    }
   ],
   "source": [
    "sales_train.head()"
   ]
  },
  {
   "cell_type": "code",
   "execution_count": 35,
   "metadata": {
    "execution": {
     "iopub.execute_input": "2022-07-12T19:37:34.859412Z",
     "iopub.status.busy": "2022-07-12T19:37:34.858672Z",
     "iopub.status.idle": "2022-07-12T19:37:34.866285Z",
     "shell.execute_reply": "2022-07-12T19:37:34.865560Z",
     "shell.execute_reply.started": "2022-07-12T19:37:34.859357Z"
    },
    "jupyter": {
     "outputs_hidden": false
    },
    "pycharm": {
     "name": "#%%\n"
    }
   },
   "outputs": [
    {
     "data": {
      "text/plain": "date               object\ndate_block_num      int64\nshop_id             int64\nitem_id             int64\nitem_price        float64\nitem_cnt_day      float64\ndtype: object"
     },
     "execution_count": 35,
     "metadata": {},
     "output_type": "execute_result"
    }
   ],
   "source": [
    "sales_train.dtypes"
   ]
  },
  {
   "cell_type": "markdown",
   "metadata": {
    "pycharm": {
     "name": "#%% md\n"
    }
   },
   "source": [
    "# Sales test"
   ]
  },
  {
   "cell_type": "code",
   "execution_count": 36,
   "metadata": {
    "execution": {
     "iopub.execute_input": "2022-07-12T19:37:34.976963Z",
     "iopub.status.busy": "2022-07-12T19:37:34.976232Z",
     "iopub.status.idle": "2022-07-12T19:37:34.987463Z",
     "shell.execute_reply": "2022-07-12T19:37:34.986154Z",
     "shell.execute_reply.started": "2022-07-12T19:37:34.976911Z"
    },
    "jupyter": {
     "outputs_hidden": false
    },
    "pycharm": {
     "name": "#%%\n"
    }
   },
   "outputs": [
    {
     "data": {
      "text/plain": "   ID  shop_id  item_id\n0   0        5     5037\n1   1        5     5320\n2   2        5     5233\n3   3        5     5232\n4   4        5     5268",
      "text/html": "<div>\n<style scoped>\n    .dataframe tbody tr th:only-of-type {\n        vertical-align: middle;\n    }\n\n    .dataframe tbody tr th {\n        vertical-align: top;\n    }\n\n    .dataframe thead th {\n        text-align: right;\n    }\n</style>\n<table border=\"1\" class=\"dataframe\">\n  <thead>\n    <tr style=\"text-align: right;\">\n      <th></th>\n      <th>ID</th>\n      <th>shop_id</th>\n      <th>item_id</th>\n    </tr>\n  </thead>\n  <tbody>\n    <tr>\n      <th>0</th>\n      <td>0</td>\n      <td>5</td>\n      <td>5037</td>\n    </tr>\n    <tr>\n      <th>1</th>\n      <td>1</td>\n      <td>5</td>\n      <td>5320</td>\n    </tr>\n    <tr>\n      <th>2</th>\n      <td>2</td>\n      <td>5</td>\n      <td>5233</td>\n    </tr>\n    <tr>\n      <th>3</th>\n      <td>3</td>\n      <td>5</td>\n      <td>5232</td>\n    </tr>\n    <tr>\n      <th>4</th>\n      <td>4</td>\n      <td>5</td>\n      <td>5268</td>\n    </tr>\n  </tbody>\n</table>\n</div>"
     },
     "execution_count": 36,
     "metadata": {},
     "output_type": "execute_result"
    }
   ],
   "source": [
    "sales_test.head()"
   ]
  },
  {
   "cell_type": "code",
   "execution_count": 37,
   "metadata": {
    "execution": {
     "iopub.execute_input": "2022-07-12T19:37:35.183633Z",
     "iopub.status.busy": "2022-07-12T19:37:35.182869Z",
     "iopub.status.idle": "2022-07-12T19:37:35.192318Z",
     "shell.execute_reply": "2022-07-12T19:37:35.191048Z",
     "shell.execute_reply.started": "2022-07-12T19:37:35.183586Z"
    },
    "jupyter": {
     "outputs_hidden": false
    },
    "pycharm": {
     "name": "#%%\n"
    }
   },
   "outputs": [
    {
     "data": {
      "text/plain": "ID         int64\nshop_id    int64\nitem_id    int64\ndtype: object"
     },
     "execution_count": 37,
     "metadata": {},
     "output_type": "execute_result"
    }
   ],
   "source": [
    "sales_test.dtypes"
   ]
  },
  {
   "cell_type": "markdown",
   "metadata": {
    "pycharm": {
     "name": "#%% md\n"
    }
   },
   "source": [
    "# <center> Dtype validation"
   ]
  },
  {
   "cell_type": "code",
   "execution_count": 38,
   "metadata": {
    "execution": {
     "iopub.execute_input": "2022-07-12T19:37:35.537116Z",
     "iopub.status.busy": "2022-07-12T19:37:35.536698Z",
     "iopub.status.idle": "2022-07-12T19:37:36.575084Z",
     "shell.execute_reply": "2022-07-12T19:37:36.573776Z",
     "shell.execute_reply.started": "2022-07-12T19:37:35.537084Z"
    },
    "jupyter": {
     "outputs_hidden": false
    },
    "pycharm": {
     "name": "#%%\n"
    }
   },
   "outputs": [],
   "source": [
    "item_categories['item_category_id'] = item_categories['item_category_id'].astype(object)\n",
    "\n",
    "items['item_id'] = items['item_id'].astype(object)\n",
    "items['item_category_id'] = items['item_category_id'].astype(object)\n",
    "\n",
    "shops['shop_id'] = shops['shop_id'].astype(object)\n",
    "\n",
    "sales_train['date'] = pd.to_datetime(sales_train['date'])\n",
    "sales_train['date_block_num'] = sales_train['date_block_num'].astype(object)\n",
    "sales_train['shop_id'] = sales_train['shop_id'].astype(object)\n",
    "sales_train['item_id'] = sales_train['item_id'].astype(object)\n",
    "sales_train['item_cnt_day'] = sales_train['item_cnt_day'].astype('int64')\n",
    "\n",
    "sales_test['shop_id'] = sales_test['shop_id'].astype(object)\n",
    "sales_test['item_id'] = sales_test['item_id'].astype(object)"
   ]
  },
  {
   "cell_type": "markdown",
   "metadata": {
    "pycharm": {
     "name": "#%% md\n"
    }
   },
   "source": [
    "# <center> Creating new features"
   ]
  },
  {
   "cell_type": "code",
   "execution_count": 39,
   "metadata": {
    "execution": {
     "iopub.execute_input": "2022-07-12T19:37:36.577289Z",
     "iopub.status.busy": "2022-07-12T19:37:36.576952Z",
     "iopub.status.idle": "2022-07-12T19:37:39.772064Z",
     "shell.execute_reply": "2022-07-12T19:37:39.770979Z",
     "shell.execute_reply.started": "2022-07-12T19:37:36.577259Z"
    },
    "jupyter": {
     "outputs_hidden": false
    },
    "pycharm": {
     "name": "#%%\n"
    }
   },
   "outputs": [
    {
     "data": {
      "text/plain": "   ID shop_id item_id  series\n0   0       5    5037  5|5037\n1   1       5    5320  5|5320\n2   2       5    5233  5|5233\n3   3       5    5232  5|5232\n4   4       5    5268  5|5268",
      "text/html": "<div>\n<style scoped>\n    .dataframe tbody tr th:only-of-type {\n        vertical-align: middle;\n    }\n\n    .dataframe tbody tr th {\n        vertical-align: top;\n    }\n\n    .dataframe thead th {\n        text-align: right;\n    }\n</style>\n<table border=\"1\" class=\"dataframe\">\n  <thead>\n    <tr style=\"text-align: right;\">\n      <th></th>\n      <th>ID</th>\n      <th>shop_id</th>\n      <th>item_id</th>\n      <th>series</th>\n    </tr>\n  </thead>\n  <tbody>\n    <tr>\n      <th>0</th>\n      <td>0</td>\n      <td>5</td>\n      <td>5037</td>\n      <td>5|5037</td>\n    </tr>\n    <tr>\n      <th>1</th>\n      <td>1</td>\n      <td>5</td>\n      <td>5320</td>\n      <td>5|5320</td>\n    </tr>\n    <tr>\n      <th>2</th>\n      <td>2</td>\n      <td>5</td>\n      <td>5233</td>\n      <td>5|5233</td>\n    </tr>\n    <tr>\n      <th>3</th>\n      <td>3</td>\n      <td>5</td>\n      <td>5232</td>\n      <td>5|5232</td>\n    </tr>\n    <tr>\n      <th>4</th>\n      <td>4</td>\n      <td>5</td>\n      <td>5268</td>\n      <td>5|5268</td>\n    </tr>\n  </tbody>\n</table>\n</div>"
     },
     "execution_count": 39,
     "metadata": {},
     "output_type": "execute_result"
    }
   ],
   "source": [
    "#creating a new feature (concatination shop_id and item_id)\n",
    "sales_train['series'] = sales_train['shop_id'].astype('str') + '|' + sales_train['item_id'].astype('str')\n",
    "sales_test['series'] = sales_test['shop_id'].astype('str') + '|' + sales_test['item_id'].astype('str')\n",
    "\n",
    "sales_test.head()"
   ]
  },
  {
   "cell_type": "markdown",
   "metadata": {
    "pycharm": {
     "name": "#%% md\n"
    }
   },
   "source": [
    "# <center> Group data"
   ]
  },
  {
   "cell_type": "code",
   "execution_count": 40,
   "metadata": {
    "execution": {
     "iopub.execute_input": "2022-07-12T19:37:39.774459Z",
     "iopub.status.busy": "2022-07-12T19:37:39.774027Z",
     "iopub.status.idle": "2022-07-12T19:37:42.689741Z",
     "shell.execute_reply": "2022-07-12T19:37:42.688684Z",
     "shell.execute_reply.started": "2022-07-12T19:37:39.774418Z"
    },
    "jupyter": {
     "outputs_hidden": false
    },
    "pycharm": {
     "name": "#%%\n"
    }
   },
   "outputs": [
    {
     "data": {
      "text/plain": "    series  date_block_num  item_cnt_day\n0   0|1000               0             5\n1   0|1000               1             4\n2  0|10004               1             1\n3   0|1001               0             2\n4  0|10012               0             1",
      "text/html": "<div>\n<style scoped>\n    .dataframe tbody tr th:only-of-type {\n        vertical-align: middle;\n    }\n\n    .dataframe tbody tr th {\n        vertical-align: top;\n    }\n\n    .dataframe thead th {\n        text-align: right;\n    }\n</style>\n<table border=\"1\" class=\"dataframe\">\n  <thead>\n    <tr style=\"text-align: right;\">\n      <th></th>\n      <th>series</th>\n      <th>date_block_num</th>\n      <th>item_cnt_day</th>\n    </tr>\n  </thead>\n  <tbody>\n    <tr>\n      <th>0</th>\n      <td>0|1000</td>\n      <td>0</td>\n      <td>5</td>\n    </tr>\n    <tr>\n      <th>1</th>\n      <td>0|1000</td>\n      <td>1</td>\n      <td>4</td>\n    </tr>\n    <tr>\n      <th>2</th>\n      <td>0|10004</td>\n      <td>1</td>\n      <td>1</td>\n    </tr>\n    <tr>\n      <th>3</th>\n      <td>0|1001</td>\n      <td>0</td>\n      <td>2</td>\n    </tr>\n    <tr>\n      <th>4</th>\n      <td>0|10012</td>\n      <td>0</td>\n      <td>1</td>\n    </tr>\n  </tbody>\n</table>\n</div>"
     },
     "execution_count": 40,
     "metadata": {},
     "output_type": "execute_result"
    }
   ],
   "source": [
    "# Grouping data by series and month (date_blocck_num)\n",
    "sales_train = sales_train.groupby(\n",
    "    ['series', 'date_block_num']\n",
    ").agg({\n",
    "    'item_cnt_day': 'sum'\n",
    "})\n",
    "\n",
    "sales_train.reset_index(inplace = True)\n",
    "sales_train.head()"
   ]
  },
  {
   "cell_type": "markdown",
   "metadata": {
    "pycharm": {
     "name": "#%% md\n"
    }
   },
   "source": [
    "# <center> Pivot Table creation"
   ]
  },
  {
   "cell_type": "code",
   "execution_count": 41,
   "metadata": {
    "execution": {
     "iopub.execute_input": "2022-07-12T19:37:42.692654Z",
     "iopub.status.busy": "2022-07-12T19:37:42.692306Z",
     "iopub.status.idle": "2022-07-12T19:37:46.637039Z",
     "shell.execute_reply": "2022-07-12T19:37:46.635672Z",
     "shell.execute_reply.started": "2022-07-12T19:37:42.692622Z"
    },
    "jupyter": {
     "outputs_hidden": false
    },
    "pycharm": {
     "name": "#%%\n"
    }
   },
   "outputs": [
    {
     "data": {
      "text/plain": "               item_cnt_day                             ...                    \\\ndate_block_num           0  1  2  3  4  5  6  7  8  9   ... 24 25 26 27 28 29   \nseries                                                  ...                     \n0|1000                    5  4  0  0  0  0  0  0  0  0  ...  0  0  0  0  0  0   \n0|10004                   0  1  0  0  0  0  0  0  0  0  ...  0  0  0  0  0  0   \n0|1001                    2  0  0  0  0  0  0  0  0  0  ...  0  0  0  0  0  0   \n0|10012                   1  2  0  0  0  0  0  0  0  0  ...  0  0  0  0  0  0   \n0|1002                    2  0  0  0  0  0  0  0  0  0  ...  0  0  0  0  0  0   \n\n                            \ndate_block_num 30 31 32 33  \nseries                      \n0|1000          0  0  0  0  \n0|10004         0  0  0  0  \n0|1001          0  0  0  0  \n0|10012         0  0  0  0  \n0|1002          0  0  0  0  \n\n[5 rows x 34 columns]",
      "text/html": "<div>\n<style scoped>\n    .dataframe tbody tr th:only-of-type {\n        vertical-align: middle;\n    }\n\n    .dataframe tbody tr th {\n        vertical-align: top;\n    }\n\n    .dataframe thead tr th {\n        text-align: left;\n    }\n\n    .dataframe thead tr:last-of-type th {\n        text-align: right;\n    }\n</style>\n<table border=\"1\" class=\"dataframe\">\n  <thead>\n    <tr>\n      <th></th>\n      <th colspan=\"21\" halign=\"left\">item_cnt_day</th>\n    </tr>\n    <tr>\n      <th>date_block_num</th>\n      <th>0</th>\n      <th>1</th>\n      <th>2</th>\n      <th>3</th>\n      <th>4</th>\n      <th>5</th>\n      <th>6</th>\n      <th>7</th>\n      <th>8</th>\n      <th>9</th>\n      <th>...</th>\n      <th>24</th>\n      <th>25</th>\n      <th>26</th>\n      <th>27</th>\n      <th>28</th>\n      <th>29</th>\n      <th>30</th>\n      <th>31</th>\n      <th>32</th>\n      <th>33</th>\n    </tr>\n    <tr>\n      <th>series</th>\n      <th></th>\n      <th></th>\n      <th></th>\n      <th></th>\n      <th></th>\n      <th></th>\n      <th></th>\n      <th></th>\n      <th></th>\n      <th></th>\n      <th></th>\n      <th></th>\n      <th></th>\n      <th></th>\n      <th></th>\n      <th></th>\n      <th></th>\n      <th></th>\n      <th></th>\n      <th></th>\n      <th></th>\n    </tr>\n  </thead>\n  <tbody>\n    <tr>\n      <th>0|1000</th>\n      <td>5</td>\n      <td>4</td>\n      <td>0</td>\n      <td>0</td>\n      <td>0</td>\n      <td>0</td>\n      <td>0</td>\n      <td>0</td>\n      <td>0</td>\n      <td>0</td>\n      <td>...</td>\n      <td>0</td>\n      <td>0</td>\n      <td>0</td>\n      <td>0</td>\n      <td>0</td>\n      <td>0</td>\n      <td>0</td>\n      <td>0</td>\n      <td>0</td>\n      <td>0</td>\n    </tr>\n    <tr>\n      <th>0|10004</th>\n      <td>0</td>\n      <td>1</td>\n      <td>0</td>\n      <td>0</td>\n      <td>0</td>\n      <td>0</td>\n      <td>0</td>\n      <td>0</td>\n      <td>0</td>\n      <td>0</td>\n      <td>...</td>\n      <td>0</td>\n      <td>0</td>\n      <td>0</td>\n      <td>0</td>\n      <td>0</td>\n      <td>0</td>\n      <td>0</td>\n      <td>0</td>\n      <td>0</td>\n      <td>0</td>\n    </tr>\n    <tr>\n      <th>0|1001</th>\n      <td>2</td>\n      <td>0</td>\n      <td>0</td>\n      <td>0</td>\n      <td>0</td>\n      <td>0</td>\n      <td>0</td>\n      <td>0</td>\n      <td>0</td>\n      <td>0</td>\n      <td>...</td>\n      <td>0</td>\n      <td>0</td>\n      <td>0</td>\n      <td>0</td>\n      <td>0</td>\n      <td>0</td>\n      <td>0</td>\n      <td>0</td>\n      <td>0</td>\n      <td>0</td>\n    </tr>\n    <tr>\n      <th>0|10012</th>\n      <td>1</td>\n      <td>2</td>\n      <td>0</td>\n      <td>0</td>\n      <td>0</td>\n      <td>0</td>\n      <td>0</td>\n      <td>0</td>\n      <td>0</td>\n      <td>0</td>\n      <td>...</td>\n      <td>0</td>\n      <td>0</td>\n      <td>0</td>\n      <td>0</td>\n      <td>0</td>\n      <td>0</td>\n      <td>0</td>\n      <td>0</td>\n      <td>0</td>\n      <td>0</td>\n    </tr>\n    <tr>\n      <th>0|1002</th>\n      <td>2</td>\n      <td>0</td>\n      <td>0</td>\n      <td>0</td>\n      <td>0</td>\n      <td>0</td>\n      <td>0</td>\n      <td>0</td>\n      <td>0</td>\n      <td>0</td>\n      <td>...</td>\n      <td>0</td>\n      <td>0</td>\n      <td>0</td>\n      <td>0</td>\n      <td>0</td>\n      <td>0</td>\n      <td>0</td>\n      <td>0</td>\n      <td>0</td>\n      <td>0</td>\n    </tr>\n  </tbody>\n</table>\n<p>5 rows × 34 columns</p>\n</div>"
     },
     "execution_count": 41,
     "metadata": {},
     "output_type": "execute_result"
    }
   ],
   "source": [
    "# Creating a pivot table from our data. Shape of pivot table == number of unique series * months  \n",
    "train_data_pivot = sales_train.pivot_table(\n",
    "    values = ['item_cnt_day'],\n",
    "    index = ['series'],\n",
    "    columns = ['date_block_num'],\n",
    "    fill_value = 0,\n",
    "    aggfunc='sum'\n",
    ")\n",
    "train_data_pivot.head()"
   ]
  },
  {
   "cell_type": "markdown",
   "metadata": {
    "pycharm": {
     "name": "#%% md\n"
    }
   },
   "source": [
    "# <center> Merging with test data"
   ]
  },
  {
   "cell_type": "code",
   "execution_count": 42,
   "metadata": {
    "execution": {
     "iopub.execute_input": "2022-07-12T19:37:46.639105Z",
     "iopub.status.busy": "2022-07-12T19:37:46.638779Z",
     "iopub.status.idle": "2022-07-12T19:37:47.323553Z",
     "shell.execute_reply": "2022-07-12T19:37:47.322292Z",
     "shell.execute_reply.started": "2022-07-12T19:37:46.639076Z"
    },
    "jupyter": {
     "outputs_hidden": false
    },
    "pycharm": {
     "name": "#%%\n"
    }
   },
   "outputs": [
    {
     "data": {
      "text/plain": "        (item_cnt_day, 0)  (item_cnt_day, 1)  (item_cnt_day, 2)  \\\nseries                                                            \n5|5037                0.0                0.0                0.0   \n5|5320                0.0                0.0                0.0   \n5|5233                0.0                0.0                0.0   \n5|5232                0.0                0.0                0.0   \n5|5268                0.0                0.0                0.0   \n\n        (item_cnt_day, 3)  (item_cnt_day, 4)  (item_cnt_day, 5)  \\\nseries                                                            \n5|5037                0.0                0.0                0.0   \n5|5320                0.0                0.0                0.0   \n5|5233                0.0                0.0                0.0   \n5|5232                0.0                0.0                0.0   \n5|5268                0.0                0.0                0.0   \n\n        (item_cnt_day, 6)  (item_cnt_day, 7)  (item_cnt_day, 8)  \\\nseries                                                            \n5|5037                0.0                0.0                0.0   \n5|5320                0.0                0.0                0.0   \n5|5233                0.0                0.0                0.0   \n5|5232                0.0                0.0                0.0   \n5|5268                0.0                0.0                0.0   \n\n        (item_cnt_day, 9)  ...  (item_cnt_day, 24)  (item_cnt_day, 25)  \\\nseries                     ...                                           \n5|5037                0.0  ...                 2.0                 0.0   \n5|5320                0.0  ...                 0.0                 0.0   \n5|5233                0.0  ...                 0.0                 0.0   \n5|5232                0.0  ...                 0.0                 0.0   \n5|5268                0.0  ...                 0.0                 0.0   \n\n        (item_cnt_day, 26)  (item_cnt_day, 27)  (item_cnt_day, 28)  \\\nseries                                                               \n5|5037                 0.0                 0.0                 1.0   \n5|5320                 0.0                 0.0                 0.0   \n5|5233                 0.0                 0.0                 3.0   \n5|5232                 0.0                 0.0                 0.0   \n5|5268                 0.0                 0.0                 0.0   \n\n        (item_cnt_day, 29)  (item_cnt_day, 30)  (item_cnt_day, 31)  \\\nseries                                                               \n5|5037                 1.0                 1.0                 3.0   \n5|5320                 0.0                 0.0                 0.0   \n5|5233                 2.0                 0.0                 1.0   \n5|5232                 0.0                 0.0                 1.0   \n5|5268                 0.0                 0.0                 0.0   \n\n        (item_cnt_day, 32)  (item_cnt_day, 33)  \nseries                                          \n5|5037                 1.0                 0.0  \n5|5320                 0.0                 0.0  \n5|5233                 3.0                 1.0  \n5|5232                 0.0                 0.0  \n5|5268                 0.0                 0.0  \n\n[5 rows x 34 columns]",
      "text/html": "<div>\n<style scoped>\n    .dataframe tbody tr th:only-of-type {\n        vertical-align: middle;\n    }\n\n    .dataframe tbody tr th {\n        vertical-align: top;\n    }\n\n    .dataframe thead th {\n        text-align: right;\n    }\n</style>\n<table border=\"1\" class=\"dataframe\">\n  <thead>\n    <tr style=\"text-align: right;\">\n      <th></th>\n      <th>(item_cnt_day, 0)</th>\n      <th>(item_cnt_day, 1)</th>\n      <th>(item_cnt_day, 2)</th>\n      <th>(item_cnt_day, 3)</th>\n      <th>(item_cnt_day, 4)</th>\n      <th>(item_cnt_day, 5)</th>\n      <th>(item_cnt_day, 6)</th>\n      <th>(item_cnt_day, 7)</th>\n      <th>(item_cnt_day, 8)</th>\n      <th>(item_cnt_day, 9)</th>\n      <th>...</th>\n      <th>(item_cnt_day, 24)</th>\n      <th>(item_cnt_day, 25)</th>\n      <th>(item_cnt_day, 26)</th>\n      <th>(item_cnt_day, 27)</th>\n      <th>(item_cnt_day, 28)</th>\n      <th>(item_cnt_day, 29)</th>\n      <th>(item_cnt_day, 30)</th>\n      <th>(item_cnt_day, 31)</th>\n      <th>(item_cnt_day, 32)</th>\n      <th>(item_cnt_day, 33)</th>\n    </tr>\n    <tr>\n      <th>series</th>\n      <th></th>\n      <th></th>\n      <th></th>\n      <th></th>\n      <th></th>\n      <th></th>\n      <th></th>\n      <th></th>\n      <th></th>\n      <th></th>\n      <th></th>\n      <th></th>\n      <th></th>\n      <th></th>\n      <th></th>\n      <th></th>\n      <th></th>\n      <th></th>\n      <th></th>\n      <th></th>\n      <th></th>\n    </tr>\n  </thead>\n  <tbody>\n    <tr>\n      <th>5|5037</th>\n      <td>0.0</td>\n      <td>0.0</td>\n      <td>0.0</td>\n      <td>0.0</td>\n      <td>0.0</td>\n      <td>0.0</td>\n      <td>0.0</td>\n      <td>0.0</td>\n      <td>0.0</td>\n      <td>0.0</td>\n      <td>...</td>\n      <td>2.0</td>\n      <td>0.0</td>\n      <td>0.0</td>\n      <td>0.0</td>\n      <td>1.0</td>\n      <td>1.0</td>\n      <td>1.0</td>\n      <td>3.0</td>\n      <td>1.0</td>\n      <td>0.0</td>\n    </tr>\n    <tr>\n      <th>5|5320</th>\n      <td>0.0</td>\n      <td>0.0</td>\n      <td>0.0</td>\n      <td>0.0</td>\n      <td>0.0</td>\n      <td>0.0</td>\n      <td>0.0</td>\n      <td>0.0</td>\n      <td>0.0</td>\n      <td>0.0</td>\n      <td>...</td>\n      <td>0.0</td>\n      <td>0.0</td>\n      <td>0.0</td>\n      <td>0.0</td>\n      <td>0.0</td>\n      <td>0.0</td>\n      <td>0.0</td>\n      <td>0.0</td>\n      <td>0.0</td>\n      <td>0.0</td>\n    </tr>\n    <tr>\n      <th>5|5233</th>\n      <td>0.0</td>\n      <td>0.0</td>\n      <td>0.0</td>\n      <td>0.0</td>\n      <td>0.0</td>\n      <td>0.0</td>\n      <td>0.0</td>\n      <td>0.0</td>\n      <td>0.0</td>\n      <td>0.0</td>\n      <td>...</td>\n      <td>0.0</td>\n      <td>0.0</td>\n      <td>0.0</td>\n      <td>0.0</td>\n      <td>3.0</td>\n      <td>2.0</td>\n      <td>0.0</td>\n      <td>1.0</td>\n      <td>3.0</td>\n      <td>1.0</td>\n    </tr>\n    <tr>\n      <th>5|5232</th>\n      <td>0.0</td>\n      <td>0.0</td>\n      <td>0.0</td>\n      <td>0.0</td>\n      <td>0.0</td>\n      <td>0.0</td>\n      <td>0.0</td>\n      <td>0.0</td>\n      <td>0.0</td>\n      <td>0.0</td>\n      <td>...</td>\n      <td>0.0</td>\n      <td>0.0</td>\n      <td>0.0</td>\n      <td>0.0</td>\n      <td>0.0</td>\n      <td>0.0</td>\n      <td>0.0</td>\n      <td>1.0</td>\n      <td>0.0</td>\n      <td>0.0</td>\n    </tr>\n    <tr>\n      <th>5|5268</th>\n      <td>0.0</td>\n      <td>0.0</td>\n      <td>0.0</td>\n      <td>0.0</td>\n      <td>0.0</td>\n      <td>0.0</td>\n      <td>0.0</td>\n      <td>0.0</td>\n      <td>0.0</td>\n      <td>0.0</td>\n      <td>...</td>\n      <td>0.0</td>\n      <td>0.0</td>\n      <td>0.0</td>\n      <td>0.0</td>\n      <td>0.0</td>\n      <td>0.0</td>\n      <td>0.0</td>\n      <td>0.0</td>\n      <td>0.0</td>\n      <td>0.0</td>\n    </tr>\n  </tbody>\n</table>\n<p>5 rows × 34 columns</p>\n</div>"
     },
     "execution_count": 42,
     "metadata": {},
     "output_type": "execute_result"
    }
   ],
   "source": [
    "# Creating a merged data (right join test data to train data). This one will be our test data for model\n",
    "merged_data = train_data_pivot.merge(\n",
    "    sales_test,\n",
    "    on = 'series',\n",
    "    how = 'right'\n",
    ").drop(\n",
    "    columns=['ID', 'shop_id', 'item_id']\n",
    ").fillna(0).set_index('series')\n",
    "\n",
    "merged_data.head()"
   ]
  },
  {
   "cell_type": "markdown",
   "metadata": {
    "pycharm": {
     "name": "#%% md\n"
    }
   },
   "source": [
    "# <center> Dividing train data into X_train, y_train"
   ]
  },
  {
   "cell_type": "code",
   "execution_count": 43,
   "metadata": {
    "execution": {
     "iopub.execute_input": "2022-07-12T19:37:47.325738Z",
     "iopub.status.busy": "2022-07-12T19:37:47.325040Z",
     "iopub.status.idle": "2022-07-12T19:37:47.331792Z",
     "shell.execute_reply": "2022-07-12T19:37:47.330997Z",
     "shell.execute_reply.started": "2022-07-12T19:37:47.325692Z"
    },
    "jupyter": {
     "outputs_hidden": false
    },
    "pycharm": {
     "name": "#%%\n"
    }
   },
   "outputs": [],
   "source": [
    "# Taking the last month as y_train, deleting the first month to have the same shape as test data\n",
    "X_train = np.expand_dims(train_data_pivot.iloc[:, :-1], 2)\n",
    "y_train = train_data_pivot.iloc[:, -1]"
   ]
  },
  {
   "cell_type": "markdown",
   "metadata": {
    "pycharm": {
     "name": "#%% md\n"
    }
   },
   "source": [
    "# <center> Modeling"
   ]
  },
  {
   "cell_type": "code",
   "execution_count": 44,
   "metadata": {
    "execution": {
     "iopub.execute_input": "2022-07-12T19:37:47.332958Z",
     "iopub.status.busy": "2022-07-12T19:37:47.332664Z",
     "iopub.status.idle": "2022-07-12T19:37:47.575667Z",
     "shell.execute_reply": "2022-07-12T19:37:47.574795Z",
     "shell.execute_reply.started": "2022-07-12T19:37:47.332931Z"
    },
    "jupyter": {
     "outputs_hidden": false
    },
    "pycharm": {
     "name": "#%%\n"
    }
   },
   "outputs": [],
   "source": [
    "# Creating a model\n",
    "model = Sequential([\n",
    "   LSTM(\n",
    "        units = 64, \n",
    "        input_shape = (33, 1), \n",
    "        return_sequences = False\n",
    "    ),\n",
    "    Dense(\n",
    "        units = 1,\n",
    "        activation = 'relu'\n",
    "    )\n",
    "])\n",
    "\n",
    "# Model compiling\n",
    "model.compile(\n",
    "    optimizer = 'adam',\n",
    "    loss = 'mse',\n",
    "    metrics = [\n",
    "        tf.keras.metrics.RootMeanSquaredError() # Using the same metrics as Kaggle validator\n",
    "    ]\n",
    ")"
   ]
  },
  {
   "cell_type": "code",
   "execution_count": 45,
   "metadata": {
    "execution": {
     "iopub.execute_input": "2022-07-12T19:37:47.577894Z",
     "iopub.status.busy": "2022-07-12T19:37:47.576979Z",
     "iopub.status.idle": "2022-07-12T19:42:28.252670Z",
     "shell.execute_reply": "2022-07-12T19:42:28.251661Z",
     "shell.execute_reply.started": "2022-07-12T19:37:47.577855Z"
    },
    "jupyter": {
     "outputs_hidden": false
    },
    "pycharm": {
     "name": "#%%\n"
    }
   },
   "outputs": [
    {
     "name": "stdout",
     "output_type": "stream",
     "text": [
      "Epoch 1/10\n"
     ]
    },
    {
     "name": "stderr",
     "output_type": "stream",
     "text": [
      "2022-07-23 22:32:11.978636: I tensorflow/core/grappler/optimizers/custom_graph_optimizer_registry.cc:113] Plugin optimizer for device_type GPU is enabled.\n",
      "2022-07-23 22:32:12.139093: I tensorflow/core/grappler/optimizers/custom_graph_optimizer_registry.cc:113] Plugin optimizer for device_type GPU is enabled.\n"
     ]
    },
    {
     "name": "stdout",
     "output_type": "stream",
     "text": [
      " 1/63 [..............................] - ETA: 1:29 - loss: 0.8167 - root_mean_squared_error: 0.9037"
     ]
    },
    {
     "name": "stderr",
     "output_type": "stream",
     "text": [
      "2022-07-23 22:32:12.421893: I tensorflow/core/grappler/optimizers/custom_graph_optimizer_registry.cc:113] Plugin optimizer for device_type GPU is enabled.\n"
     ]
    },
    {
     "name": "stdout",
     "output_type": "stream",
     "text": [
      "63/63 [==============================] - ETA: 0s - loss: 25.2438 - root_mean_squared_error: 5.0243"
     ]
    },
    {
     "name": "stderr",
     "output_type": "stream",
     "text": [
      "2022-07-23 22:32:22.359321: I tensorflow/core/grappler/optimizers/custom_graph_optimizer_registry.cc:113] Plugin optimizer for device_type GPU is enabled.\n",
      "2022-07-23 22:32:22.401720: I tensorflow/core/grappler/optimizers/custom_graph_optimizer_registry.cc:113] Plugin optimizer for device_type GPU is enabled.\n"
     ]
    },
    {
     "name": "stdout",
     "output_type": "stream",
     "text": [
      "63/63 [==============================] - 14s 199ms/step - loss: 25.2438 - root_mean_squared_error: 5.0243 - val_loss: 1.8140 - val_root_mean_squared_error: 1.3468\n",
      "Epoch 2/10\n",
      "63/63 [==============================] - 12s 187ms/step - loss: 25.0755 - root_mean_squared_error: 5.0075 - val_loss: 1.7565 - val_root_mean_squared_error: 1.3253\n",
      "Epoch 3/10\n",
      "63/63 [==============================] - 13s 210ms/step - loss: 24.9508 - root_mean_squared_error: 4.9951 - val_loss: 1.7257 - val_root_mean_squared_error: 1.3136\n",
      "Epoch 4/10\n",
      "63/63 [==============================] - 13s 204ms/step - loss: 24.8747 - root_mean_squared_error: 4.9875 - val_loss: 1.7094 - val_root_mean_squared_error: 1.3075\n",
      "Epoch 5/10\n",
      "63/63 [==============================] - 12s 186ms/step - loss: 24.8228 - root_mean_squared_error: 4.9823 - val_loss: 1.6908 - val_root_mean_squared_error: 1.3003\n",
      "Epoch 6/10\n",
      "63/63 [==============================] - 12s 193ms/step - loss: 24.7788 - root_mean_squared_error: 4.9778 - val_loss: 1.6819 - val_root_mean_squared_error: 1.2969\n",
      "Epoch 7/10\n",
      "63/63 [==============================] - 13s 206ms/step - loss: 24.7417 - root_mean_squared_error: 4.9741 - val_loss: 1.6645 - val_root_mean_squared_error: 1.2902\n",
      "Epoch 8/10\n",
      "63/63 [==============================] - 13s 200ms/step - loss: 24.7095 - root_mean_squared_error: 4.9709 - val_loss: 1.6653 - val_root_mean_squared_error: 1.2905\n",
      "Epoch 9/10\n",
      "63/63 [==============================] - 12s 186ms/step - loss: 24.6796 - root_mean_squared_error: 4.9679 - val_loss: 1.6439 - val_root_mean_squared_error: 1.2821\n",
      "Epoch 10/10\n",
      "63/63 [==============================] - 12s 189ms/step - loss: 24.6484 - root_mean_squared_error: 4.9647 - val_loss: 1.6305 - val_root_mean_squared_error: 1.2769\n"
     ]
    }
   ],
   "source": [
    "# Model training\n",
    "history = model.fit(\n",
    "    x = X_train,\n",
    "    y = y_train,\n",
    "    epochs = 10,\n",
    "    batch_size=4056,\n",
    "    validation_split=0.4\n",
    ")"
   ]
  },
  {
   "cell_type": "code",
   "execution_count": 46,
   "metadata": {
    "execution": {
     "iopub.execute_input": "2022-07-12T19:42:28.254619Z",
     "iopub.status.busy": "2022-07-12T19:42:28.254313Z",
     "iopub.status.idle": "2022-07-12T19:42:28.567092Z",
     "shell.execute_reply": "2022-07-12T19:42:28.566344Z",
     "shell.execute_reply.started": "2022-07-12T19:42:28.254584Z"
    },
    "jupyter": {
     "outputs_hidden": false
    },
    "pycharm": {
     "name": "#%%\n"
    }
   },
   "outputs": [
    {
     "data": {
      "text/plain": "<Figure size 1080x504 with 2 Axes>",
      "image/png": "[encoded data removed]"
     },
     "metadata": {
      "needs_background": "light"
     },
     "output_type": "display_data"
    }
   ],
   "source": [
    "# Visualize model train loss\n",
    "\n",
    "fig, ax = plt.subplots(\n",
    "    nrows = 1,\n",
    "    ncols = 2\n",
    ")\n",
    "ax[0].plot(history.history['val_root_mean_squared_error'], color = 'orange')\n",
    "ax[0].set_title('RMSE')\n",
    "ax[0].set_xlabel('Epochs')\n",
    "ax[0].set_ylabel('Error')\n",
    "ax[0].grid(alpha = 0.5)\n",
    "\n",
    "ax[1].plot(history.history['loss'], color = 'green')\n",
    "ax[1].set_title('Loss')\n",
    "ax[1].set_xlabel('Epochs')\n",
    "ax[1].set_ylabel('Loss')\n",
    "ax[1].grid(alpha = 0.5)"
   ]
  },
  {
   "cell_type": "markdown",
   "metadata": {
    "pycharm": {
     "name": "#%% md\n"
    }
   },
   "source": [
    "# <center> Test data processing"
   ]
  },
  {
   "cell_type": "code",
   "execution_count": 47,
   "metadata": {
    "execution": {
     "iopub.execute_input": "2022-07-12T19:42:28.570353Z",
     "iopub.status.busy": "2022-07-12T19:42:28.569761Z",
     "iopub.status.idle": "2022-07-12T19:43:15.421259Z",
     "shell.execute_reply": "2022-07-12T19:43:15.420073Z",
     "shell.execute_reply.started": "2022-07-12T19:42:28.570322Z"
    },
    "jupyter": {
     "outputs_hidden": false
    },
    "pycharm": {
     "name": "#%%\n"
    }
   },
   "outputs": [
    {
     "name": "stdout",
     "output_type": "stream",
     "text": [
      "   9/6694 [..............................] - ETA: 43s  "
     ]
    },
    {
     "name": "stderr",
     "output_type": "stream",
     "text": [
      "2022-07-23 22:34:16.409613: I tensorflow/core/grappler/optimizers/custom_graph_optimizer_registry.cc:113] Plugin optimizer for device_type GPU is enabled.\n",
      "2022-07-23 22:34:16.451374: I tensorflow/core/grappler/optimizers/custom_graph_optimizer_registry.cc:113] Plugin optimizer for device_type GPU is enabled.\n"
     ]
    },
    {
     "name": "stdout",
     "output_type": "stream",
     "text": [
      "6694/6694 [==============================] - 40s 6ms/step\n"
     ]
    }
   ],
   "source": [
    "# Creating test data from merged data (merged sales_test with pivot table)\n",
    "test_data = np.expand_dims(merged_data.iloc[:, 1:], 2)\n",
    "\n",
    "# Generating predictions\n",
    "predictions = model.predict(test_data)"
   ]
  },
  {
   "cell_type": "code",
   "execution_count": 48,
   "metadata": {
    "execution": {
     "iopub.execute_input": "2022-07-12T19:43:15.424853Z",
     "iopub.status.busy": "2022-07-12T19:43:15.424014Z",
     "iopub.status.idle": "2022-07-12T19:43:16.452627Z",
     "shell.execute_reply": "2022-07-12T19:43:16.451334Z",
     "shell.execute_reply.started": "2022-07-12T19:43:15.424784Z"
    },
    "jupyter": {
     "outputs_hidden": false
    },
    "pycharm": {
     "name": "#%%\n"
    }
   },
   "outputs": [],
   "source": [
    "# Creating pandas datframe from the sales_test ID's and predictions and saving that\n",
    "submission = pd.DataFrame({\n",
    "    'ID':sales_test['ID'],\n",
    "    'item_cnt_month':predictions.ravel()\n",
    "})\n",
    "submission.to_csv('./submission.csv',index = False)"
   ]
  }
 ],
 "metadata": {
  "kernelspec": {
   "display_name": "Python 3 (ipykernel)",
   "language": "python",
   "name": "python3"
  },
  "language_info": {
   "codemirror_mode": {
    "name": "ipython",
    "version": 3
   },
   "file_extension": ".py",
   "mimetype": "text/x-python",
   "name": "python",
   "nbconvert_exporter": "python",
   "pygments_lexer": "ipython3",
   "version": "3.9.12"
  }
 },
 "nbformat": 4,
 "nbformat_minor": 4
}